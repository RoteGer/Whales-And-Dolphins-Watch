{
 "cells": [
  {
   "cell_type": "code",
   "execution_count": 72,
   "id": "4b6143ec",
   "metadata": {},
   "outputs": [],
   "source": [
    "from sklearn.model_selection import train_test_split\n",
    "\n",
    "import numpy as np\n",
    "import pandas as pd\n",
    "\n",
    "# helper for logistic regression explanations\n",
    "from scipy.special import expit\n",
    "from scipy.special import logit\n",
    "from sklearn import metrics\n",
    "from sklearn.linear_model import LogisticRegression\n",
    "\n",
    "import warnings\n",
    "warnings.filterwarnings('ignore')"
   ]
  },
  {
   "cell_type": "code",
   "execution_count": 73,
   "id": "ff9d4d13",
   "metadata": {},
   "outputs": [],
   "source": [
    "df = pd.read_csv(\"Binary_FINAL_DF.csv\")\n",
    "df = df.iloc[:,2:]  ## ignoring double index\n",
    "df = df.drop(['Day', 'Year'], axis=1)\n"
   ]
  },
  {
   "cell_type": "markdown",
   "id": "21a95ecd",
   "metadata": {},
   "source": [
    "### Splitting the Data"
   ]
  },
  {
   "cell_type": "code",
   "execution_count": 74,
   "id": "fc2e1465",
   "metadata": {},
   "outputs": [],
   "source": [
    "\n",
    "def split_df_to_x_y(df, col_to_pred):\n",
    "    X = df.drop(['Common Dolphin', 'Bottlenose Dolphin', 'Pacific White sided Dolphin',\n",
    "                 'Rissos Dolphin', 'Whales', 'Gray Whales','Other' ], axis=1)  ## Dropping all the animals from table\n",
    "    y = df[col_to_pred]\n",
    "    return X,y\n"
   ]
  },
  {
   "cell_type": "code",
   "execution_count": 75,
   "id": "4ba7778b",
   "metadata": {},
   "outputs": [],
   "source": [
    "## Getting X and y for every animal\n",
    "\n",
    "X_Common, y_Common = split_df_to_x_y(df,'Common Dolphin')\n",
    "X_Bottlenose, y_Bottlenose = split_df_to_x_y(df,'Bottlenose Dolphin')\n",
    "X_Pacific, y_Pacific = split_df_to_x_y(df,'Pacific White sided Dolphin')\n",
    "X_Rissos, y_Rissos = split_df_to_x_y(df,'Rissos Dolphin')\n",
    "X_Whales, y_Whales = split_df_to_x_y(df,'Whales')\n",
    "X_Gray_Whale, y_Gray_Whale = split_df_to_x_y(df,'Whales')\n",
    "X_Other, y_Other = split_df_to_x_y(df,'Other')\n"
   ]
  },
  {
   "cell_type": "code",
   "execution_count": 76,
   "id": "3f62434d",
   "metadata": {},
   "outputs": [],
   "source": [
    "## Splitting to train and test for each animal\n",
    "\n",
    "X_train_Common, X_test_Common, y_train_Common, y_test_Common = train_test_split(X_Common, y_Common, test_size=0.2, random_state=42)\n",
    "X_train_Pacific, X_test_Pacific, y_train_Pacific, y_test_Pacific = train_test_split(X_Pacific, y_Pacific, test_size=0.2, random_state=42)\n",
    "X_train_Whales, X_test_Whales, y_train_Whales, y_test_Whales = train_test_split(X_Whales, y_Whales, test_size=0.2, random_state=42)\n",
    "X_train_Bottlenose, X_test_Bottlenose, y_train_Bottlenose, y_test_Bottlenose = train_test_split(X_Bottlenose, y_Bottlenose, test_size=0.2, random_state=42)\n",
    "X_train_Rissos, X_test_Rissos, y_train_Rissos, y_test_Rissos = train_test_split(X_Rissos, y_Rissos, test_size=0.2, random_state=42)\n",
    "X_train_Gray_Whale, X_test_Gray_Whale, y_train_Gray_Whale, y_test_Gray_Whale = train_test_split(X_Gray_Whale, y_Gray_Whale, test_size=0.2, random_state=42)\n",
    "X_train_Other, X_test_Other, y_train_Other, y_test_Other = train_test_split(X_Other, y_Other, test_size=0.2, random_state=42)\n"
   ]
  },
  {
   "cell_type": "markdown",
   "id": "ad6cb03b",
   "metadata": {},
   "source": [
    "### Logistic Reggresion Model"
   ]
  },
  {
   "cell_type": "code",
   "execution_count": 77,
   "id": "972d3d58",
   "metadata": {},
   "outputs": [],
   "source": [
    "def Logistic_Reg_model(X_train, y_train, Col_to_pred):\n",
    "    trained_model = LogisticRegression().fit(X_train, y_train)\n",
    "    print('\\n\\nLogistic Regression Model for ' +  Col_to_pred + ':\\n')\n",
    "    return trained_model"
   ]
  },
  {
   "cell_type": "markdown",
   "id": "a1d9db09",
   "metadata": {},
   "source": [
    "### The prediction for each animal (seen = 1/ not seen = 0)"
   ]
  },
  {
   "cell_type": "code",
   "execution_count": 78,
   "id": "b2f12c35",
   "metadata": {},
   "outputs": [],
   "source": [
    "def predict_Animal(trained_model, X_test):\n",
    "    predicted_vals = trained_model.predict(X_test)\n",
    "    return predicted_vals"
   ]
  },
  {
   "cell_type": "markdown",
   "id": "f1518d44",
   "metadata": {},
   "source": [
    "### Evaluations for each animal "
   ]
  },
  {
   "cell_type": "code",
   "execution_count": 79,
   "id": "24f614d4",
   "metadata": {},
   "outputs": [],
   "source": [
    "#                     | Positive | Negative\n",
    "#   __________________|__________|_____________\n",
    "#      Positive       |          |\n",
    "#   (Animal was seen) |    TP    |    FP\n",
    "#  ___________________|__________|_____________\n",
    "#    Negativ (Absent) |    FN    |    TN\n",
    "#                     |          |\n",
    "#\n",
    "\n",
    "def evaluate_performance(y_test, y_predicted):\n",
    "    print(\"Confusion Matrix:\\n\", metrics.confusion_matrix(y_test, y_predicted))\n",
    "    print(\"accuracy is:\", metrics.accuracy_score(y_test, y_predicted))  ## Accurate correct (All table)\n",
    "    print(\"precision is:\", metrics.precision_score(y_test, y_predicted))  ##  Accurate correct, first row (regarding to Falsly correct prediction)          \n",
    "    print(\"recall is:\", metrics.recall_score(y_test, y_predicted))  ## Accurate correct, first col (regarding to Falsly False prediction)\n",
    "    print(\"f1 is:\", metrics.f1_score(y_test, y_predicted))  ## Weighting of precision and recall\n",
    "    pred_df=pd.DataFrame({'y_test':y_test, 'y_predicted':y_predicted})\n",
    "    print(pred_df.head(10))"
   ]
  },
  {
   "cell_type": "code",
   "execution_count": 80,
   "id": "b5eea5c2",
   "metadata": {},
   "outputs": [
    {
     "name": "stdout",
     "output_type": "stream",
     "text": [
      "\n",
      "\n",
      "Logistic Regression Model for Common Dolphin:\n",
      "\n",
      "Confusion Matrix:\n",
      " [[  13  206]\n",
      " [   9 1075]]\n",
      "accuracy is: 0.8349961627014582\n",
      "precision is: 0.8391881342701015\n",
      "recall is: 0.9916974169741697\n",
      "f1 is: 0.9090909090909092\n",
      "      y_test  y_predicted\n",
      "1263       0            1\n",
      "3951       1            1\n",
      "6200       1            1\n",
      "6081       1            1\n",
      "96         1            1\n",
      "1477       1            1\n",
      "3159       1            1\n",
      "1400       0            1\n",
      "3767       1            1\n",
      "3017       0            1\n"
     ]
    }
   ],
   "source": [
    "trained_model_Common = Logistic_Reg_model(X_train_Common, y_train_Common, 'Common Dolphin')\n",
    "y_pred_Common = predict_Animal(trained_model_Common, X_test_Common)\n",
    "evaluate_performance(y_test_Common, y_pred_Common)"
   ]
  },
  {
   "cell_type": "code",
   "execution_count": 81,
   "id": "3a883d08",
   "metadata": {},
   "outputs": [
    {
     "name": "stdout",
     "output_type": "stream",
     "text": [
      "\n",
      "\n",
      "Logistic Regression Model for Gray_Whale:\n",
      "\n",
      "Confusion Matrix:\n",
      " [[305 290]\n",
      " [159 549]]\n",
      "accuracy is: 0.6554105909439755\n",
      "precision is: 0.6543504171632897\n",
      "recall is: 0.7754237288135594\n",
      "f1 is: 0.7097608274078864\n",
      "      y_test  y_predicted\n",
      "1263       1            1\n",
      "3951       1            0\n",
      "6200       0            0\n",
      "6081       0            1\n",
      "96         0            1\n",
      "1477       1            1\n",
      "3159       1            1\n",
      "1400       0            0\n",
      "3767       1            1\n",
      "3017       1            1\n"
     ]
    }
   ],
   "source": [
    "trained_model_Gray_Whale = Logistic_Reg_model(X_train_Gray_Whale, y_train_Gray_Whale, 'Gray_Whale')\n",
    "y_pred_Gray_Whale = predict_Animal(trained_model_Gray_Whale, X_test_Gray_Whale)\n",
    "evaluate_performance(y_test_Gray_Whale, y_pred_Gray_Whale)"
   ]
  },
  {
   "cell_type": "code",
   "execution_count": 82,
   "id": "065b101e",
   "metadata": {},
   "outputs": [
    {
     "name": "stdout",
     "output_type": "stream",
     "text": [
      "\n",
      "\n",
      "Logistic Regression Model for Bottlenose Dolphin:\n",
      "\n",
      "Confusion Matrix:\n",
      " [[825  30]\n",
      " [395  53]]\n",
      "accuracy is: 0.6738296239447429\n",
      "precision is: 0.6385542168674698\n",
      "recall is: 0.11830357142857142\n",
      "f1 is: 0.19962335216572508\n",
      "      y_test  y_predicted\n",
      "1263       1            0\n",
      "3951       1            0\n",
      "6200       1            0\n",
      "6081       1            0\n",
      "96         0            0\n",
      "1477       0            0\n",
      "3159       1            0\n",
      "1400       1            0\n",
      "3767       0            0\n",
      "3017       1            0\n"
     ]
    }
   ],
   "source": [
    "trained_model_Bottlenose = Logistic_Reg_model(X_train_Bottlenose, y_train_Bottlenose, 'Bottlenose Dolphin')\n",
    "y_pred_Bottlenose = predict_Animal(trained_model_Bottlenose, X_test_Bottlenose)\n",
    "evaluate_performance(y_test_Bottlenose, y_pred_Bottlenose)"
   ]
  },
  {
   "cell_type": "code",
   "execution_count": 83,
   "id": "3d10bde0",
   "metadata": {},
   "outputs": [
    {
     "name": "stdout",
     "output_type": "stream",
     "text": [
      "\n",
      "\n",
      "Logistic Regression Model for Whales:\n",
      "\n",
      "Confusion Matrix:\n",
      " [[305 290]\n",
      " [159 549]]\n",
      "accuracy is: 0.6554105909439755\n",
      "precision is: 0.6543504171632897\n",
      "recall is: 0.7754237288135594\n",
      "f1 is: 0.7097608274078864\n",
      "      y_test  y_predicted\n",
      "1263       1            1\n",
      "3951       1            0\n",
      "6200       0            0\n",
      "6081       0            1\n",
      "96         0            1\n",
      "1477       1            1\n",
      "3159       1            1\n",
      "1400       0            0\n",
      "3767       1            1\n",
      "3017       1            1\n"
     ]
    }
   ],
   "source": [
    "trained_model_Whales = Logistic_Reg_model(X_train_Whales, y_train_Whales, 'Whales')\n",
    "y_pred_Whales = predict_Animal(trained_model_Whales, X_test_Whales)\n",
    "evaluate_performance(y_test_Whales, y_pred_Whales)"
   ]
  },
  {
   "cell_type": "code",
   "execution_count": 84,
   "id": "a6687cb1",
   "metadata": {},
   "outputs": [
    {
     "name": "stdout",
     "output_type": "stream",
     "text": [
      "\n",
      "\n",
      "Logistic Regression Model for Pacific White-sided Dolphin:\n",
      "\n",
      "Confusion Matrix:\n",
      " [[1079   24]\n",
      " [ 189   11]]\n",
      "accuracy is: 0.8365310821181888\n",
      "precision is: 0.3142857142857143\n",
      "recall is: 0.055\n",
      "f1 is: 0.09361702127659575\n",
      "      y_test  y_predicted\n",
      "1263       0            0\n",
      "3951       0            0\n",
      "6200       1            0\n",
      "6081       0            0\n",
      "96         0            0\n",
      "1477       0            0\n",
      "3159       0            0\n",
      "1400       0            0\n",
      "3767       1            0\n",
      "3017       0            0\n"
     ]
    }
   ],
   "source": [
    "trained_model_Pacific = Logistic_Reg_model(X_train_Pacific, y_train_Pacific, 'Pacific White-sided Dolphin')\n",
    "y_pred_Pacific = predict_Animal(trained_model_Pacific, X_test_Pacific)\n",
    "evaluate_performance(y_test_Pacific, y_pred_Pacific)"
   ]
  },
  {
   "cell_type": "code",
   "execution_count": 85,
   "id": "42e9d164",
   "metadata": {},
   "outputs": [
    {
     "name": "stdout",
     "output_type": "stream",
     "text": [
      "\n",
      "\n",
      "Logistic Regression Model for Rissos Dolphin:\n",
      "\n",
      "Confusion Matrix:\n",
      " [[1134    0]\n",
      " [ 169    0]]\n",
      "accuracy is: 0.8702993092862624\n",
      "precision is: 0.0\n",
      "recall is: 0.0\n",
      "f1 is: 0.0\n",
      "      y_test  y_predicted\n",
      "1263       0            0\n",
      "3951       0            0\n",
      "6200       0            0\n",
      "6081       0            0\n",
      "96         1            0\n",
      "1477       1            0\n",
      "3159       0            0\n",
      "1400       0            0\n",
      "3767       0            0\n",
      "3017       0            0\n"
     ]
    }
   ],
   "source": [
    "trained_model_Rissos = Logistic_Reg_model(X_train_Rissos, y_train_Rissos, 'Rissos Dolphin')\n",
    "y_pred_Rissos = predict_Animal(trained_model_Rissos, X_test_Rissos)\n",
    "evaluate_performance(y_test_Rissos, y_pred_Rissos)"
   ]
  },
  {
   "cell_type": "code",
   "execution_count": 86,
   "id": "f64eced3",
   "metadata": {},
   "outputs": [
    {
     "name": "stdout",
     "output_type": "stream",
     "text": [
      "\n",
      "\n",
      "Logistic Regression Model for Other:\n",
      "\n",
      "Confusion Matrix:\n",
      " [[1049    4]\n",
      " [ 245    5]]\n",
      "accuracy is: 0.8089025326170376\n",
      "precision is: 0.5555555555555556\n",
      "recall is: 0.02\n",
      "f1 is: 0.03861003861003861\n",
      "      y_test  y_predicted\n",
      "1263       0            0\n",
      "3951       0            0\n",
      "6200       0            0\n",
      "6081       0            0\n",
      "96         0            0\n",
      "1477       1            0\n",
      "3159       1            0\n",
      "1400       0            0\n",
      "3767       0            0\n",
      "3017       0            0\n"
     ]
    }
   ],
   "source": [
    "trained_model_Other = Logistic_Reg_model(X_train_Other, y_train_Other, 'Other')\n",
    "y_pred_Other = predict_Animal(trained_model_Other, X_test_Other)\n",
    "evaluate_performance(y_test_Other, y_pred_Other)"
   ]
  },
  {
   "cell_type": "code",
   "execution_count": null,
   "id": "b11fb906",
   "metadata": {},
   "outputs": [],
   "source": []
  },
  {
   "cell_type": "code",
   "execution_count": null,
   "id": "3ba8d3a9",
   "metadata": {},
   "outputs": [],
   "source": []
  }
 ],
 "metadata": {
  "kernelspec": {
   "display_name": "Python 3",
   "language": "python",
   "name": "python3"
  },
  "language_info": {
   "codemirror_mode": {
    "name": "ipython",
    "version": 3
   },
   "file_extension": ".py",
   "mimetype": "text/x-python",
   "name": "python",
   "nbconvert_exporter": "python",
   "pygments_lexer": "ipython3",
   "version": "3.8.8"
  }
 },
 "nbformat": 4,
 "nbformat_minor": 5
}
